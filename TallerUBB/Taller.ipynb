{
 "cells": [
  {
   "cell_type": "markdown",
   "id": "9dfdb0d8",
   "metadata": {
    "slideshow": {
     "slide_type": "slide"
    }
   },
   "source": [
    "# Taller: \"Introducción al aprendizaje automático en Python\""
   ]
  },
  {
   "cell_type": "markdown",
   "id": "10be841a",
   "metadata": {
    "slideshow": {
     "slide_type": "slide"
    }
   },
   "source": [
    "## Objetivo\n",
    "\n",
    "Crearemos un modelo simple de aprendizaje automático para analizar datos de vibración de un rodamiento. El modelo clasificará automáticamente si el rodamiento funciona normal o si tiene alguna falla."
   ]
  },
  {
   "cell_type": "markdown",
   "id": "f8a81e48",
   "metadata": {
    "slideshow": {
     "slide_type": "slide"
    }
   },
   "source": [
    "## Datos brutos\n",
    "\n",
    "Los datos brutos para este ejercicio fueron obtenidos desde: https://data.mendeley.com/datasets/v43hmbwxpm/2\n",
    "\n",
    "<br>\n",
    "<center>\n",
    "    <img src=\"test-bench.jpg\" width=\"500\" />\n",
    "</center>"
   ]
  },
  {
   "cell_type": "markdown",
   "id": "041a8151",
   "metadata": {
    "slideshow": {
     "slide_type": "subslide"
    }
   },
   "source": [
    "Los datos brutos corresponden a señales de aceleración vibratoria a diferentes velocidades de giro.\n",
    "\n",
    "Ejemplo de señal:\n",
    "\n",
    "<center>\n",
    "    <img src=\"bearing-signal.png\" width=\"800\" />\n",
    "</center>"
   ]
  },
  {
   "cell_type": "markdown",
   "id": "294d33e3",
   "metadata": {
    "slideshow": {
     "slide_type": "slide"
    }
   },
   "source": [
    "## Datos procesados\n",
    "\n",
    "Para este ejercicio, utilizaremos como datos algunos valores estadísticos calculados a partir de las señales\n",
    "\n",
    "Extracto:\n",
    "\n",
    "<center>\n",
    "    <img src=\"data-processed.png\" width=\"500\" />\n",
    "</center>"
   ]
  },
  {
   "cell_type": "markdown",
   "id": "cf63fdcd",
   "metadata": {
    "slideshow": {
     "slide_type": "subslide"
    }
   },
   "source": [
    "Cada señal tendrá una etiqueta asociada a la condición mecánica del rodamiento:\n",
    "\n",
    "<br>\n",
    "<center>\n",
    "    <img src=\"labels-1.png\" width=\"800\" />\n",
    "</center>\n"
   ]
  },
  {
   "cell_type": "markdown",
   "id": "f97b3df2",
   "metadata": {
    "slideshow": {
     "slide_type": "slide"
    }
   },
   "source": [
    "## Construcción de modelos\n",
    "\n",
    "<br>\n",
    "<center>\n",
    "    <img src=\"training1.png\" width=\"850\"/>\n",
    "</center>"
   ]
  },
  {
   "cell_type": "markdown",
   "id": "93115d2d",
   "metadata": {
    "slideshow": {
     "slide_type": "slide"
    }
   },
   "source": [
    "## Primer paso: Cargar los datos"
   ]
  },
  {
   "cell_type": "code",
   "execution_count": 81,
   "id": "47ae64cf",
   "metadata": {
    "slideshow": {
     "slide_type": "subslide"
    }
   },
   "outputs": [
    {
     "data": {
      "text/html": [
       "<div>\n",
       "<style scoped>\n",
       "    .dataframe tbody tr th:only-of-type {\n",
       "        vertical-align: middle;\n",
       "    }\n",
       "\n",
       "    .dataframe tbody tr th {\n",
       "        vertical-align: top;\n",
       "    }\n",
       "\n",
       "    .dataframe thead th {\n",
       "        text-align: right;\n",
       "    }\n",
       "</style>\n",
       "<table border=\"1\" class=\"dataframe\">\n",
       "  <thead>\n",
       "    <tr style=\"text-align: right;\">\n",
       "      <th></th>\n",
       "      <th>rps</th>\n",
       "      <th>max</th>\n",
       "      <th>rms</th>\n",
       "      <th>kurt</th>\n",
       "      <th>label</th>\n",
       "    </tr>\n",
       "  </thead>\n",
       "  <tbody>\n",
       "    <tr>\n",
       "      <th>0</th>\n",
       "      <td>15.024038</td>\n",
       "      <td>0.311521</td>\n",
       "      <td>0.029794</td>\n",
       "      <td>7.642549</td>\n",
       "      <td>1</td>\n",
       "    </tr>\n",
       "    <tr>\n",
       "      <th>1</th>\n",
       "      <td>15.024038</td>\n",
       "      <td>0.216155</td>\n",
       "      <td>0.022242</td>\n",
       "      <td>6.541628</td>\n",
       "      <td>1</td>\n",
       "    </tr>\n",
       "    <tr>\n",
       "      <th>2</th>\n",
       "      <td>15.024038</td>\n",
       "      <td>0.255288</td>\n",
       "      <td>0.028959</td>\n",
       "      <td>9.691690</td>\n",
       "      <td>1</td>\n",
       "    </tr>\n",
       "    <tr>\n",
       "      <th>3</th>\n",
       "      <td>15.988251</td>\n",
       "      <td>0.323688</td>\n",
       "      <td>0.030494</td>\n",
       "      <td>8.147744</td>\n",
       "      <td>1</td>\n",
       "    </tr>\n",
       "    <tr>\n",
       "      <th>4</th>\n",
       "      <td>16.276042</td>\n",
       "      <td>0.210893</td>\n",
       "      <td>0.024360</td>\n",
       "      <td>6.408226</td>\n",
       "      <td>1</td>\n",
       "    </tr>\n",
       "    <tr>\n",
       "      <th>...</th>\n",
       "      <td>...</td>\n",
       "      <td>...</td>\n",
       "      <td>...</td>\n",
       "      <td>...</td>\n",
       "      <td>...</td>\n",
       "    </tr>\n",
       "    <tr>\n",
       "      <th>1195</th>\n",
       "      <td>21.701389</td>\n",
       "      <td>0.054362</td>\n",
       "      <td>0.012577</td>\n",
       "      <td>0.150175</td>\n",
       "      <td>0</td>\n",
       "    </tr>\n",
       "    <tr>\n",
       "      <th>1196</th>\n",
       "      <td>21.701389</td>\n",
       "      <td>0.073107</td>\n",
       "      <td>0.014421</td>\n",
       "      <td>0.888064</td>\n",
       "      <td>0</td>\n",
       "    </tr>\n",
       "    <tr>\n",
       "      <th>1197</th>\n",
       "      <td>21.701389</td>\n",
       "      <td>0.068503</td>\n",
       "      <td>0.012097</td>\n",
       "      <td>0.790625</td>\n",
       "      <td>0</td>\n",
       "    </tr>\n",
       "    <tr>\n",
       "      <th>1198</th>\n",
       "      <td>21.701389</td>\n",
       "      <td>0.083301</td>\n",
       "      <td>0.014015</td>\n",
       "      <td>1.250510</td>\n",
       "      <td>0</td>\n",
       "    </tr>\n",
       "    <tr>\n",
       "      <th>1199</th>\n",
       "      <td>23.882211</td>\n",
       "      <td>0.078039</td>\n",
       "      <td>0.014454</td>\n",
       "      <td>0.960057</td>\n",
       "      <td>0</td>\n",
       "    </tr>\n",
       "  </tbody>\n",
       "</table>\n",
       "<p>1200 rows × 5 columns</p>\n",
       "</div>"
      ],
      "text/plain": [
       "            rps       max       rms      kurt  label\n",
       "0     15.024038  0.311521  0.029794  7.642549      1\n",
       "1     15.024038  0.216155  0.022242  6.541628      1\n",
       "2     15.024038  0.255288  0.028959  9.691690      1\n",
       "3     15.988251  0.323688  0.030494  8.147744      1\n",
       "4     16.276042  0.210893  0.024360  6.408226      1\n",
       "...         ...       ...       ...       ...    ...\n",
       "1195  21.701389  0.054362  0.012577  0.150175      0\n",
       "1196  21.701389  0.073107  0.014421  0.888064      0\n",
       "1197  21.701389  0.068503  0.012097  0.790625      0\n",
       "1198  21.701389  0.083301  0.014015  1.250510      0\n",
       "1199  23.882211  0.078039  0.014454  0.960057      0\n",
       "\n",
       "[1200 rows x 5 columns]"
      ]
     },
     "metadata": {},
     "output_type": "display_data"
    }
   ],
   "source": [
    "import pandas as pd\n",
    "df = pd.read_excel('data-bearing-simple.xlsx', index_col=0)\n",
    "display(df)"
   ]
  },
  {
   "cell_type": "markdown",
   "id": "43449c60",
   "metadata": {
    "slideshow": {
     "slide_type": "slide"
    }
   },
   "source": [
    "## Segundo paso: Sets de entrenamiento y test"
   ]
  },
  {
   "cell_type": "code",
   "execution_count": 82,
   "id": "6d0d113d",
   "metadata": {
    "slideshow": {
     "slide_type": "subslide"
    }
   },
   "outputs": [
    {
     "name": "stdout",
     "output_type": "stream",
     "text": [
      "[[1.50240385e+01 3.11520735e-01 2.97939555e-02 7.64254855e+00]\n",
      " [1.50240385e+01 2.16155053e-01 2.22417637e-02 6.54162790e+00]\n",
      " [1.50240385e+01 2.55287866e-01 2.89586583e-02 9.69169014e+00]\n",
      " ...\n",
      " [2.17013889e+01 6.85026851e-02 1.20967984e-02 7.90625273e-01]\n",
      " [2.17013889e+01 8.33008057e-02 1.40145207e-02 1.25051006e+00]\n",
      " [2.38822109e+01 7.80392517e-02 1.44544282e-02 9.60056814e-01]]\n",
      "[1. 1. 1. ... 0. 0. 0.]\n",
      "1200\n"
     ]
    }
   ],
   "source": [
    "X = df.values[:, 0:4]\n",
    "y = df.values[:, 4]\n",
    "\n",
    "print(X)\n",
    "print(y)\n",
    "print(len(y))\n"
   ]
  },
  {
   "cell_type": "code",
   "execution_count": 83,
   "id": "7b56bdae",
   "metadata": {
    "slideshow": {
     "slide_type": "subslide"
    }
   },
   "outputs": [
    {
     "name": "stdout",
     "output_type": "stream",
     "text": [
      "900\n",
      "300\n"
     ]
    }
   ],
   "source": [
    "from sklearn.model_selection import train_test_split\n",
    "\n",
    "X_train, X_test, y_train, y_test = train_test_split(X, y, test_size=0.25, random_state=0)\n",
    "\n",
    "print(len(y_train))\n",
    "print(len(y_test))\n"
   ]
  },
  {
   "cell_type": "markdown",
   "id": "7e1c7602",
   "metadata": {
    "slideshow": {
     "slide_type": "slide"
    }
   },
   "source": [
    "## Tercer paso: Selección del modelo clasificador"
   ]
  },
  {
   "cell_type": "markdown",
   "id": "f3d46fa9",
   "metadata": {
    "slideshow": {
     "slide_type": "subslide"
    }
   },
   "source": [
    "En este caso usaremos un modelo llamado **regresión logística** que se construye a partir de una regresión lineal combinada con una función logística.\n",
    "\n",
    "La regresión lineal es:\n",
    "\n",
    "\\begin{split}\n",
    "    \\hat{y} = w_0 + w_1 x_1 + ... + w_m x_m\n",
    "\\end{split}\n",
    "\n",
    "La función logística es:\n",
    "\n",
    "\\begin{split}\n",
    "    f(t) = \\frac{1}{1 + e^{-t}}\n",
    "\\end{split}\n",
    "\n",
    "<center>\n",
    "    <img src=\"logistic-1.png\" width=\"600\"/>\n",
    "</center>\n"
   ]
  },
  {
   "cell_type": "markdown",
   "id": "3bb71e2c",
   "metadata": {
    "slideshow": {
     "slide_type": "subslide"
    }
   },
   "source": [
    "Documentación del modelo en Python:\n",
    "\n",
    "https://scikit-learn.org/stable/modules/generated/sklearn.linear_model.LogisticRegression.html\n"
   ]
  },
  {
   "cell_type": "markdown",
   "id": "3aba9d9c",
   "metadata": {
    "slideshow": {
     "slide_type": "slide"
    }
   },
   "source": [
    "## Cuarto paso: Entrenamiento y prueba del modelo"
   ]
  },
  {
   "cell_type": "code",
   "execution_count": 84,
   "id": "8645edb7",
   "metadata": {
    "slideshow": {
     "slide_type": "subslide"
    }
   },
   "outputs": [
    {
     "name": "stdout",
     "output_type": "stream",
     "text": [
      "La exactitud de clasificación para entrenamiento es:  0.9422222222222222\n"
     ]
    }
   ],
   "source": [
    "from sklearn.linear_model import LogisticRegression\n",
    "from sklearn.metrics import accuracy_score\n",
    "\n",
    "clf = LogisticRegression(C=0.01, solver='newton-cg', random_state=0)\n",
    "clf.fit(X_train, y_train)\n",
    "y_train_predict = clf.predict(X_train)\n",
    "\n",
    "print('La exactitud de clasificación para entrenamiento es: ', accuracy_score(y_train, y_train_predict))"
   ]
  },
  {
   "cell_type": "code",
   "execution_count": 85,
   "id": "aef36e4a",
   "metadata": {
    "slideshow": {
     "slide_type": "subslide"
    }
   },
   "outputs": [
    {
     "name": "stdout",
     "output_type": "stream",
     "text": [
      "La exactitud de clasificación para prueba es:  0.9466666666666667\n"
     ]
    }
   ],
   "source": [
    "y_test_predict = clf.predict(X_test)\n",
    "\n",
    "print('La exactitud de clasificación para prueba es: ', accuracy_score(y_test, y_test_predict))"
   ]
  },
  {
   "cell_type": "markdown",
   "id": "6708b66a",
   "metadata": {
    "slideshow": {
     "slide_type": "slide"
    }
   },
   "source": [
    "# Visualización con tres atributos"
   ]
  },
  {
   "cell_type": "code",
   "execution_count": 89,
   "id": "a5b81210",
   "metadata": {
    "slideshow": {
     "slide_type": "subslide"
    }
   },
   "outputs": [],
   "source": [
    "import matplotlib.pyplot as plt\n",
    "\n",
    "%matplotlib qt\n",
    "fig = plt.figure()\n",
    "ax = fig.add_subplot(projection='3d') \n",
    "\n",
    "ax.scatter(X_test[:, 0][y_test == 0], X_test[:, 1][y_test == 0], X_test[:, 2][y_test == 0], color='blue', label='Sin falla')\n",
    "ax.scatter(X_test[:, 0][y_test == 1], X_test[:, 1][y_test == 1], X_test[:, 2][y_test == 1], color='red', label='Con falla')\n",
    "\n",
    "ax.set_xlabel(\"RPS\")\n",
    "ax.set_ylabel(\"MAX\")\n",
    "ax.set_zlabel(\"RMS\")\n",
    "ax.set_title('Clases verdaderas')\n",
    "ax.legend()\n",
    "plt.show()"
   ]
  },
  {
   "cell_type": "code",
   "execution_count": 87,
   "id": "d7373e33",
   "metadata": {
    "slideshow": {
     "slide_type": "subslide"
    }
   },
   "outputs": [],
   "source": [
    "fig = plt.figure()\n",
    "ax = fig.add_subplot(projection='3d') \n",
    "\n",
    "ax.scatter(X_test[:, 0][y_test_predict == 0], X_test[:, 1][y_test_predict == 0], X_test[:, 2][y_test_predict == 0], color='blue', label='Sin falla')\n",
    "ax.scatter(X_test[:, 0][y_test_predict == 1], X_test[:, 1][y_test_predict == 1], X_test[:, 2][y_test_predict == 1], color='red', label='Con falla')\n",
    "\n",
    "ax.set_xlabel(\"RPS\")\n",
    "ax.set_ylabel(\"MAX\")\n",
    "ax.set_zlabel(\"RMS\")\n",
    "ax.set_title('Clases predichas')\n",
    "ax.legend()\n",
    "plt.show()"
   ]
  },
  {
   "cell_type": "markdown",
   "id": "a5a967fe",
   "metadata": {
    "slideshow": {
     "slide_type": "slide"
    }
   },
   "source": [
    "# ¡Gracias por su atención!"
   ]
  }
 ],
 "metadata": {
  "celltoolbar": "Slideshow",
  "kernelspec": {
   "display_name": "Python 3 (ipykernel)",
   "language": "python",
   "name": "python3"
  },
  "language_info": {
   "codemirror_mode": {
    "name": "ipython",
    "version": 3
   },
   "file_extension": ".py",
   "mimetype": "text/x-python",
   "name": "python",
   "nbconvert_exporter": "python",
   "pygments_lexer": "ipython3",
   "version": "3.11.5"
  }
 },
 "nbformat": 4,
 "nbformat_minor": 5
}
